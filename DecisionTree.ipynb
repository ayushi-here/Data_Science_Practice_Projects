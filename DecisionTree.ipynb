{
 "cells": [
  {
   "cell_type": "code",
   "execution_count": null,
   "id": "200037d6-da71-48bc-bcf6-bd06e3251991",
   "metadata": {},
   "outputs": [],
   "source": []
  },
  {
   "cell_type": "code",
   "execution_count": 1,
   "id": "fcf26425-0569-48ff-b6fe-c3a4c94541d9",
   "metadata": {},
   "outputs": [],
   "source": [
    "training_data=[\n",
    "    ['Green',3,'Mango'],\n",
    "    ['Yellow',3,'Mango'],\n",
    "    ['Red',1,'Grape'],\n",
    "    ['Red',1,'Grape'],\n",
    "    ['Yellow',3,'Lemon'],\n",
    "]"
   ]
  },
  {
   "cell_type": "code",
   "execution_count": 2,
   "id": "8b066dfb-fc2b-4a00-8818-eb5def965a1e",
   "metadata": {},
   "outputs": [],
   "source": [
    "header=[\"Color\",\"Diameter\",\"Label\"]"
   ]
  },
  {
   "cell_type": "code",
   "execution_count": 3,
   "id": "80479e6f-4017-4b64-afbf-6131930fed31",
   "metadata": {},
   "outputs": [],
   "source": [
    "def unique_vals(rows,col):\n",
    "    return set([row[col]for row in rows])"
   ]
  },
  {
   "cell_type": "code",
   "execution_count": 4,
   "id": "b7c6401c-0752-41b2-a0ff-cf7a191d8ed0",
   "metadata": {},
   "outputs": [
    {
     "data": {
      "text/plain": [
       "{'Green', 'Red', 'Yellow'}"
      ]
     },
     "execution_count": 4,
     "metadata": {},
     "output_type": "execute_result"
    }
   ],
   "source": [
    "unique_vals(training_data,0)"
   ]
  },
  {
   "cell_type": "code",
   "execution_count": 5,
   "id": "2ef05f77-d0ff-483f-ae38-967cb6d3fd31",
   "metadata": {},
   "outputs": [
    {
     "data": {
      "text/plain": [
       "{1, 3}"
      ]
     },
     "execution_count": 5,
     "metadata": {},
     "output_type": "execute_result"
    }
   ],
   "source": [
    "unique_vals(training_data,1)"
   ]
  },
  {
   "cell_type": "code",
   "execution_count": 6,
   "id": "0154b01b-654e-4b28-9fff-3ef851035e45",
   "metadata": {},
   "outputs": [
    {
     "data": {
      "text/plain": [
       "{'Grape', 'Lemon', 'Mango'}"
      ]
     },
     "execution_count": 6,
     "metadata": {},
     "output_type": "execute_result"
    }
   ],
   "source": [
    "unique_vals(training_data,2)"
   ]
  },
  {
   "cell_type": "code",
   "execution_count": 7,
   "id": "7a522294-6cbf-407d-bba0-5875a48bd0fe",
   "metadata": {},
   "outputs": [],
   "source": [
    "\"\"\"Counts the no of each type of example in a dataset\"\"\"\n",
    "def class_counts(rows):\n",
    "    counts={} #a dict of label-> count.\n",
    "    for row in rows: \n",
    "        # in our dataset format, the label is always the last col\n",
    "        label=row[-1]\n",
    "        if label not in counts:\n",
    "            counts[label]=0\n",
    "        counts[label]+=1\n",
    "    return counts"
   ]
  },
  {
   "cell_type": "code",
   "execution_count": 8,
   "id": "cde1af18-c798-45d5-a5fb-248f3ec26f55",
   "metadata": {},
   "outputs": [
    {
     "data": {
      "text/plain": [
       "{'Mango': 2, 'Grape': 2, 'Lemon': 1}"
      ]
     },
     "execution_count": 8,
     "metadata": {},
     "output_type": "execute_result"
    }
   ],
   "source": [
    "class_counts(training_data)"
   ]
  },
  {
   "cell_type": "code",
   "execution_count": 9,
   "id": "c445f9f7-3232-4af4-a325-4e3236fbb63a",
   "metadata": {},
   "outputs": [],
   "source": [
    "\"\"\"Test if a value is numeric.\"\"\"\n",
    "def is_numeric(value):\n",
    "    return isinstance(value,int) or isinstance(value,float)"
   ]
  },
  {
   "cell_type": "code",
   "execution_count": 10,
   "id": "afb4191c-47e1-4ffb-aeb1-7b8bbbd3470c",
   "metadata": {},
   "outputs": [],
   "source": [
    "#is_numeric(\"red\") \n",
    "#is_numeric(3)"
   ]
  },
  {
   "cell_type": "code",
   "execution_count": 11,
   "id": "3cd0a2c7-f7c7-4840-9d8a-534aa1be0f62",
   "metadata": {},
   "outputs": [],
   "source": [
    "class Question:\n",
    "    \"\"\"A Question is used to partition a dataset.\n",
    "    This class just records a 'column number' (e.g., 0 for color) and a\n",
    "    'coloumn value' (e.g., Green). The match method is used to compare \n",
    "    the feature value in an example to the feature value stored in the \n",
    "    Question. See the demo below.\n",
    "    \"\"\"\n",
    "    def __init__(self,column,value):\n",
    "        self.column=column\n",
    "        self.value=value\n",
    "\n",
    "    def match(self,example):\n",
    "        #compare the feature value in eg to feature value in this question\n",
    "        val=example[self.column]\n",
    "        if is_numeric(val):\n",
    "            return val>=self.value\n",
    "        else:\n",
    "            return val==self.value\n",
    "\n",
    "    def __repr__(self):\n",
    "        #helper method to print the Question in a readable format\n",
    "        condition=\"==\"\n",
    "        if is_numeric(self.value):\n",
    "            condition=\">=\"\n",
    "        return \"Is %s %s %s?\"%(header[self.column],condition,str(self.value))        "
   ]
  },
  {
   "cell_type": "code",
   "execution_count": 12,
   "id": "705d6e68-5140-4cfc-954e-89ccd460e892",
   "metadata": {},
   "outputs": [
    {
     "name": "stdout",
     "output_type": "stream",
     "text": [
      "Is Color == Green?\n"
     ]
    }
   ],
   "source": [
    "q=Question(0,'Green')\n",
    "print(q)"
   ]
  },
  {
   "cell_type": "code",
   "execution_count": 13,
   "id": "3174c2b2-92d7-47ef-9d40-576a4656f6b4",
   "metadata": {},
   "outputs": [
    {
     "name": "stdout",
     "output_type": "stream",
     "text": [
      "[True, False, False, False, False]\n"
     ]
    }
   ],
   "source": [
    "print([q.match(row) for row in training_data])"
   ]
  },
  {
   "cell_type": "code",
   "execution_count": 14,
   "id": "a54bb70a-fe62-4819-ae33-f1e96a59021d",
   "metadata": {},
   "outputs": [
    {
     "name": "stdout",
     "output_type": "stream",
     "text": [
      "Is Diameter >= 3?\n"
     ]
    }
   ],
   "source": [
    "q2=Question(1,3)\n",
    "print(q2)"
   ]
  },
  {
   "cell_type": "code",
   "execution_count": 15,
   "id": "e0e27a54-9275-43dd-b4db-19bbf6edc9f3",
   "metadata": {},
   "outputs": [
    {
     "name": "stdout",
     "output_type": "stream",
     "text": [
      "[True, True, False, False, True]\n"
     ]
    }
   ],
   "source": [
    "print([q2.match(row) for row in training_data])"
   ]
  },
  {
   "cell_type": "code",
   "execution_count": 16,
   "id": "bc0554eb-1d44-438c-9b6e-cb1804dac5fa",
   "metadata": {},
   "outputs": [],
   "source": [
    "def partition(rows,question):\n",
    "    \"\"\"Partitions a dataset.\n",
    "    For each row in the dataset,check if it matches the question. If so,\n",
    "    add it to 'true rows',otherwise, add it to 'false rows'.\"\"\"\n",
    "    true_rows,false_rows=[],[]\n",
    "    for row in rows:\n",
    "        if question.match(row):\n",
    "            true_rows.append(row)\n",
    "        else:\n",
    "            false_rows.append(row)\n",
    "    return true_rows,false_rows       "
   ]
  },
  {
   "cell_type": "code",
   "execution_count": 17,
   "id": "ef51ea6c-26a0-44b8-967b-a393ddc3f524",
   "metadata": {},
   "outputs": [
    {
     "data": {
      "text/plain": [
       "[['Red', 1, 'Grape'], ['Red', 1, 'Grape']]"
      ]
     },
     "execution_count": 17,
     "metadata": {},
     "output_type": "execute_result"
    }
   ],
   "source": [
    "#lets partition the training data based on whether rows are red.\n",
    "true_rows,false_rows=partition(training_data,Question(0,'Red'))\n",
    "true_rows"
   ]
  },
  {
   "cell_type": "code",
   "execution_count": 18,
   "id": "b5e8a1d6-0334-4478-b59f-286064526f1b",
   "metadata": {},
   "outputs": [
    {
     "data": {
      "text/plain": [
       "[['Green', 3, 'Mango'], ['Yellow', 3, 'Mango'], ['Yellow', 3, 'Lemon']]"
      ]
     },
     "execution_count": 18,
     "metadata": {},
     "output_type": "execute_result"
    }
   ],
   "source": [
    "false_rows"
   ]
  },
  {
   "cell_type": "code",
   "execution_count": 19,
   "id": "bc0504c6-c927-4b99-a9d2-6f8473be4218",
   "metadata": {},
   "outputs": [],
   "source": [
    "def gini(rows):\n",
    "    #calculate gini impurity for a list of row.\n",
    "    counts=class_counts(rows)\n",
    "    impurity=1\n",
    "    for lbl in counts:\n",
    "        prob_of_lbl=counts[lbl]/float(len(rows))\n",
    "        impurity-=prob_of_lbl**2\n",
    "    return impurity   "
   ]
  },
  {
   "cell_type": "code",
   "execution_count": 20,
   "id": "6ffaaf0d-3385-499d-9e66-c49dc9f589ed",
   "metadata": {},
   "outputs": [],
   "source": [
    "def info_gain(left,right,current_uncertainty):\n",
    "    \"\"\"Information Gain\n",
    "    The uncertainity of the starting node,minus the weighted impurity of\n",
    "    two child nodes.\"\"\"\n",
    "    p=float(len(left))/(len(left)+len(right))\n",
    "    return current_uncertainity-p*gini(left)-(1-p)*gini(right)"
   ]
  },
  {
   "cell_type": "code",
   "execution_count": 21,
   "id": "0ff96141-19c3-4959-b4a8-43c15e64a820",
   "metadata": {},
   "outputs": [
    {
     "data": {
      "text/plain": [
       "0.1399999999999999"
      ]
     },
     "execution_count": 21,
     "metadata": {},
     "output_type": "execute_result"
    }
   ],
   "source": [
    "current_uncertainity=gini(training_data) #calculate uncertainity\n",
    "#how much info do we gain by partitioning on 'green'?\n",
    "true_rows,false_rows=partition(training_data,Question(0,'Green'))\n",
    "info_gain(true_rows,false_rows,current_uncertainity)"
   ]
  },
  {
   "cell_type": "code",
   "execution_count": 22,
   "id": "e5e1986f-b422-45bf-bfde-04f05720bde7",
   "metadata": {},
   "outputs": [
    {
     "data": {
      "text/plain": [
       "0.37333333333333324"
      ]
     },
     "execution_count": 22,
     "metadata": {},
     "output_type": "execute_result"
    }
   ],
   "source": [
    "#what if we paritioned on 'red' instead?\n",
    "true_rows,false_rows=partition(training_data,Question(0,'Red'))\n",
    "info_gain(true_rows,false_rows,current_uncertainity)"
   ]
  },
  {
   "cell_type": "code",
   "execution_count": 23,
   "id": "6978194d-8152-445e-960a-6a737cece0f7",
   "metadata": {},
   "outputs": [],
   "source": [
    "def find_best_split(rows):\n",
    "    \"\"\"Find the best question to ask by iterating over every feature / value\n",
    "       and calculating the info gain.\"\"\"\n",
    "    best_gain=0\n",
    "    best_question=None\n",
    "    current_uncertainity=gini(rows)\n",
    "    n_features=len(rows[0])-1 #no. of rows\n",
    "    for col in range(n_features):\n",
    "        values=set([row[col] for row in rows])\n",
    "        for val in values:\n",
    "            question =Question(col,val)\n",
    "            true_rows,false_rows=partition(rows,question)\n",
    "            if len(true_rows)==0 or len(false_rows)==0:\n",
    "                continue # skip if it doesnt divide the dataset\n",
    "            gain=info_gain(true_rows,false_rows,current_uncertainity)\n",
    "\n",
    "            if gain>= best_gain:\n",
    "                best_gain,best_question=gain,question\n",
    "    return best_gain,best_question           "
   ]
  },
  {
   "cell_type": "code",
   "execution_count": 24,
   "id": "c53510c6-7345-4940-a046-5aaf29cd35e8",
   "metadata": {},
   "outputs": [],
   "source": [
    "best_gain,best_question=find_best_split(training_data)"
   ]
  },
  {
   "cell_type": "code",
   "execution_count": 25,
   "id": "4a7fbd96-81f8-417f-a2af-dd6f22046518",
   "metadata": {},
   "outputs": [],
   "source": [
    "class Leaf:\n",
    "    \"\"\"A leaf node classifies data.\n",
    "    This holds a dict of class (e.g., mango)-> no. of times it apears in\n",
    "    the rows from the trianig data that reach this leaf.\"\"\"\n",
    "    def __init__(self,rows):\n",
    "        self.predictions=class_counts(rows)\n",
    "        "
   ]
  },
  {
   "cell_type": "code",
   "execution_count": 26,
   "id": "4c18ad60-0eeb-4a52-96fa-c4841d2593eb",
   "metadata": {},
   "outputs": [],
   "source": [
    "class Decision_Node:\n",
    "    \"\"\"A decision node asks a question.\n",
    "    This holds a reference to the question,and to the two child nodes.\"\"\"\n",
    "    def __init__(self,question,true_branch,false_branch):\n",
    "        self.question=question\n",
    "        self.true_branch=true_branch\n",
    "        self.false_branch=false_branch"
   ]
  },
  {
   "cell_type": "code",
   "execution_count": 27,
   "id": "61f96902-87b5-42a4-8615-666653e7a53b",
   "metadata": {},
   "outputs": [],
   "source": [
    "def build_tree(rows):\n",
    "    # partition on each unique attribute\n",
    "    # calculate the info gain\n",
    "    # return question that produces the highest gain\n",
    "    gain, question=find_best_split(rows)\n",
    "\n",
    "    #base case: no further info gain\n",
    "    #since we can ask no further question\n",
    "    #we'll return a leaf\n",
    "    if gain==0:\n",
    "        return Leaf(rows)\n",
    "\n",
    "    #if we reach here, we've found a useul feature/value to partition on.\n",
    "    true_rows,false_rows=partition(rows,question)\n",
    "\n",
    "    #recursively build the true and false branch.\n",
    "    true_branch=build_tree(true_rows)\n",
    "    false_branch=build_tree(false_rows)\n",
    "\n",
    "    #return a Question node.\n",
    "    #This records the best feature/value to ask at this point, depending on ans.\n",
    "    return Decision_Node(question,true_branch,false_branch)\n",
    "    "
   ]
  },
  {
   "cell_type": "code",
   "execution_count": 28,
   "id": "78dacdf8-9fbc-4f43-abb1-d5fdd59b792a",
   "metadata": {},
   "outputs": [],
   "source": [
    "def print_tree(node,spacing=\"\"):\n",
    "    # worlds most elegant tree printing function.\n",
    "    # Base case: we've reached a leaf\n",
    "    if isinstance(node,Leaf):\n",
    "        print(spacing+\"Predict\",node.predictions)\n",
    "        return\n",
    "    #print the question at this node\n",
    "    print(spacing + str(node.question))\n",
    "\n",
    "    #call this func recursively on the true branch\n",
    "    print(spacing+'--> True:')\n",
    "    print_tree(node.true_branch,spacing+\" \")\n",
    "\n",
    "    #call this func recusively on the false branch\n",
    "    print(spacing + '-->False:')\n",
    "    print_tree(node.false_branch,spacing+\" \")"
   ]
  },
  {
   "cell_type": "code",
   "execution_count": 29,
   "id": "a647574d-e016-4e9f-9005-38423e1778c8",
   "metadata": {},
   "outputs": [],
   "source": [
    "def classify(row,node):\n",
    "    #basecase: we've reached a leaf\n",
    "    if isinstance(node,Leaf):\n",
    "        return node.predictions\n",
    "\n",
    "    #decide wheher to follow the true or false branch\n",
    "    #compare the feature/value stored in a node, to eg we're considering\n",
    "    if node.question.match(row):\n",
    "        return classify(row,node.true_branch)\n",
    "    else:\n",
    "        return classify(row,node.false_branch)"
   ]
  },
  {
   "cell_type": "code",
   "execution_count": 30,
   "id": "2e2bb142-0a8e-4166-b248-25fd236134e8",
   "metadata": {},
   "outputs": [
    {
     "name": "stdout",
     "output_type": "stream",
     "text": [
      "{'Mango': 1}\n"
     ]
    }
   ],
   "source": [
    "my_tree = build_tree(training_data)\n",
    "print(classify(training_data[0], my_tree))  "
   ]
  },
  {
   "cell_type": "code",
   "execution_count": 31,
   "id": "5d395774-b811-461a-b343-a57f7edadda3",
   "metadata": {},
   "outputs": [],
   "source": [
    "def print_leaf(counts):\n",
    "    \"\"\"Print the predictions at a leaf.\"\"\"\n",
    "    total=sum(counts.values())*1.0\n",
    "    probs={}\n",
    "    for lbl in counts.keys():\n",
    "        probs[lbl]=str(int(counts[lbl]/total*100))+\"%\"\n",
    "    return probs"
   ]
  },
  {
   "cell_type": "code",
   "execution_count": 32,
   "id": "6773bb9c-e1cb-478f-8da5-8554bdb6b2d8",
   "metadata": {},
   "outputs": [
    {
     "data": {
      "text/plain": [
       "{'Mango': '100%'}"
      ]
     },
     "execution_count": 32,
     "metadata": {},
     "output_type": "execute_result"
    }
   ],
   "source": [
    "print_leaf(classify(training_data[0],my_tree))"
   ]
  },
  {
   "cell_type": "code",
   "execution_count": 33,
   "id": "adaafc8a-4895-4d09-8f94-01c64065d6be",
   "metadata": {},
   "outputs": [
    {
     "name": "stdout",
     "output_type": "stream",
     "text": [
      "Is Diameter >= 3?\n",
      "--> True:\n",
      " Is Color == Yellow?\n",
      " --> True:\n",
      "  Predict {'Mango': 1, 'Lemon': 1}\n",
      " -->False:\n",
      "  Predict {'Mango': 1}\n",
      "-->False:\n",
      " Predict {'Grape': 2}\n",
      "Actual: Mango. Predicted: {'Mango': '100%'}\n",
      "Actual: Mango. Predicted: {'Mango': '100%'}\n",
      "Actual: Grape. Predicted: {'Grape': '100%'}\n",
      "Actual: Grape. Predicted: {'Grape': '100%'}\n",
      "Actual: Lemon. Predicted: {'Mango': '50%', 'Lemon': '50%'}\n"
     ]
    }
   ],
   "source": [
    "if __name__=='__main__':\n",
    "    my_tree=build_tree(training_data)\n",
    "    print_tree(my_tree)\n",
    "    testing_data=[\n",
    "    ['Green',3,'Mango'],\n",
    "    ['Green',4,'Mango'],\n",
    "    ['Red',2,'Grape'],\n",
    "    ['Red',1,'Grape'],\n",
    "    ['Yellow',3,'Lemon'],\n",
    "]\n",
    "    for row in testing_data: \n",
    "        print(\"Actual: %s. Predicted: %s\" %(row[-1],print_leaf(classify(row,my_tree))))"
   ]
  },
  {
   "cell_type": "code",
   "execution_count": null,
   "id": "fabfc488-cb28-4f54-9026-e5b9f51fd82d",
   "metadata": {},
   "outputs": [],
   "source": []
  },
  {
   "cell_type": "code",
   "execution_count": null,
   "id": "43d30fe3-719c-4a32-aeee-a9292cffbabc",
   "metadata": {},
   "outputs": [],
   "source": []
  },
  {
   "cell_type": "code",
   "execution_count": null,
   "id": "50fd09f6-3ad3-493a-a978-104639a3b1dd",
   "metadata": {},
   "outputs": [],
   "source": []
  }
 ],
 "metadata": {
  "kernelspec": {
   "display_name": "Python 3 (ipykernel)",
   "language": "python",
   "name": "python3"
  },
  "language_info": {
   "codemirror_mode": {
    "name": "ipython",
    "version": 3
   },
   "file_extension": ".py",
   "mimetype": "text/x-python",
   "name": "python",
   "nbconvert_exporter": "python",
   "pygments_lexer": "ipython3",
   "version": "3.11.7"
  }
 },
 "nbformat": 4,
 "nbformat_minor": 5
}
